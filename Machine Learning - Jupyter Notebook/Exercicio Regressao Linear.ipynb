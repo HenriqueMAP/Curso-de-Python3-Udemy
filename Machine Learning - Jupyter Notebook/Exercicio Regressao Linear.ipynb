{
 "cells": [
  {
   "cell_type": "markdown",
   "metadata": {},
   "source": [
    "# Resolução do Exercício de Regressão Linear\n",
    "## Importação dos módulos do arquivo Advertising Dataset"
   ]
  },
  {
   "cell_type": "code",
   "execution_count": 7,
   "metadata": {},
   "outputs": [],
   "source": [
    "import pandas as pd\n",
    "from sklearn.model_selection import train_test_split\n",
    "from sklearn.linear_model import LinearRegression\n",
    "from sklearn import metrics\n",
    "import numpy as np"
   ]
  },
  {
   "cell_type": "code",
   "execution_count": 8,
   "metadata": {},
   "outputs": [],
   "source": [
    "testes = [['TV', 'Radio', 'Newspaper'], ['Radio', 'Newspaper'],['TV', 'Newspaper'],['TV', 'Radio']]\n",
    "vencedor = {'Teste':'', 'Performance':None}\n",
    "primeira_passagem = True\n",
    "publi = pd.read_csv('https://raw.githubusercontent.com/XMUR/ISLR-1/master/Advertising.csv', index_col=0)"
   ]
  },
  {
   "cell_type": "code",
   "execution_count": 9,
   "metadata": {},
   "outputs": [
    {
     "name": "stdout",
     "output_type": "stream",
     "text": [
      "Teste: \n",
      "['TV', 'Radio', 'Newspaper']\n",
      "Performance: \n",
      "1.582531680202876\n",
      "-------------------\n",
      "Teste: \n",
      "['Radio', 'Newspaper']\n",
      "Performance: \n",
      "4.044704848174974\n",
      "-------------------\n",
      "Teste: \n",
      "['TV', 'Newspaper']\n",
      "Performance: \n",
      "3.0951606645546454\n",
      "-------------------\n",
      "Teste: \n",
      "['TV', 'Radio']\n",
      "Performance: \n",
      "1.5821239241271168\n",
      "-------------------\n",
      "------------------\n",
      "Vencedor: \n",
      "['TV', 'Radio']\n",
      "Performance do vencedor: \n",
      "1.5821239241271168\n"
     ]
    }
   ],
   "source": [
    "for teste in testes:\n",
    "    x = publi [teste]\n",
    "    y = publi ['Sales']\n",
    "    x_train, x_test, y_train, y_test = train_test_split(x,y,test_size=0.30,random_state=5)\n",
    "    reglin=LinearRegression()\n",
    "    reglin.fit(x_train,y_train)\n",
    "    y_prev=reglin.predict(x_test)\n",
    "    rmse=np.sqrt(metrics.mean_squared_error(y_test,y_prev))\n",
    "    print('Teste: ')\n",
    "    print(teste)\n",
    "    print('Performance: ')\n",
    "    print(rmse)\n",
    "    print('-------------------')\n",
    "    if (primeira_passagem):\n",
    "        vencedor['teste'] = teste\n",
    "        vencedor['performance'] = rmse\n",
    "        primeira_passagem = False\n",
    "    else:\n",
    "        if(rmse < vencedor['performance']):\n",
    "            vencedor['teste'] = teste\n",
    "            vencedor['performance'] = rmse\n",
    "print('------------------')\n",
    "print('Vencedor: ')\n",
    "print(vencedor['teste'])\n",
    "print('Performance do vencedor: ')\n",
    "print(vencedor['performance'])"
   ]
  },
  {
   "cell_type": "code",
   "execution_count": null,
   "metadata": {},
   "outputs": [],
   "source": []
  }
 ],
 "metadata": {
  "kernelspec": {
   "display_name": "Python 3",
   "language": "python",
   "name": "python3"
  },
  "language_info": {
   "codemirror_mode": {
    "name": "ipython",
    "version": 3
   },
   "file_extension": ".py",
   "mimetype": "text/x-python",
   "name": "python",
   "nbconvert_exporter": "python",
   "pygments_lexer": "ipython3",
   "version": "3.7.6"
  }
 },
 "nbformat": 4,
 "nbformat_minor": 4
}
